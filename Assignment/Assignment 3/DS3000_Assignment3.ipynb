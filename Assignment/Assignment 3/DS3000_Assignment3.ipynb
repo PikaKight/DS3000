{
 "cells": [
  {
   "cell_type": "markdown",
   "metadata": {},
   "source": [
    "# Grade: /100 pts\n",
    "\n",
    "# Assignment 3: Regularization\n",
    "\n",
    "\n",
    "## Instructions\n",
    "\n",
    "* Complete the assignment\n",
    "\n",
    "* Once the notebook is complete, restart your kernel and rerun your cells\n",
    "\n",
    "* Submit this notebook to owl by the deadline\n",
    "\n",
    "* You may use any python library functions you wish to complete the assignment."
   ]
  },
  {
   "cell_type": "code",
   "execution_count": 1,
   "metadata": {},
   "outputs": [],
   "source": [
    "import pandas as pd\n",
    "import numpy as np\n",
    "import matplotlib.pyplot as plt\n",
    "import seaborn as sns\n",
    "import sklearn as sk\n",
    "from sklearn.model_selection import train_test_split, cross_val_score, GridSearchCV\n",
    "from sklearn.linear_model import Ridge\n",
    "from sklearn.pipeline import Pipeline\n",
    "from sklearn.preprocessing import StandardScaler, PolynomialFeatures\n",
    "from sklearn.metrics import mean_squared_error\n",
    "\n",
    "pd.set_option('display.max_columns', 500)\n",
    "\n",
    "%matplotlib inline"
   ]
  },
  {
   "cell_type": "markdown",
   "metadata": {},
   "source": [
    "### Question1: Preprocessing (5pt)\n",
    "**Make sure to only use the imports included in the first cell. Any additional imports used will result in 0.** <br>\n",
    "Tasks:\n",
    "* Load the data present in 'footballer_small.csv' using the pandas library and store the loaded data in a dataframe\n",
    "* Drop the variables: 'ID','club','club_logo','flag', 'nationality','photo','potential', 'birth_date'\n",
    "* Dummy code the variables: work_rate_att, work_rate_def, preferred_foot. **Because we are running a regularized model, we do not want to drop the first column**\n",
    "* Get a test data set of size 500 - to make results comparable to solutions, set random_state = 0 <br>"
   ]
  },
  {
   "cell_type": "code",
   "execution_count": null,
   "metadata": {},
   "outputs": [],
   "source": []
  },
  {
   "cell_type": "markdown",
   "metadata": {},
   "source": [
    "## Question 2: Building the pipeline that preprocesses the data (10pts)\n",
    "In order to properly build the regression model, the features need to be standardized so that no feature can dominate others in determining the prediction values due to differences in feature scales. \n",
    "\n",
    "**1.** Build the pipeline that **preprocesses** the feature columns of the training data and **create** a linear regression model. \n",
    "\n",
    "**2.** Plot the data **before** and **after** the standardization for the stamina feature. <br>\n",
    "\n",
    "*NOTE: In this question, there is no need to overwrite the training set's values. Create a new variable to include the standardized data. The original training data is needed for future exercises.*\n",
    "\n",
    "**3.** **Question**: Make observations about the plots.  "
   ]
  },
  {
   "cell_type": "code",
   "execution_count": null,
   "metadata": {},
   "outputs": [],
   "source": []
  },
  {
   "cell_type": "markdown",
   "metadata": {},
   "source": [
    "## Question 3: Creating a Complex feature model using 2-nd Polynomial features (10pts)\n",
    "In this task, the training data consists of the quadratic terms and 2-way interactions of all features except one of standing_tackle, composure, and marking variable. <br> \n",
    "\n",
    "**1.** Create <b> four </b> different training sets:\n",
    "* The first training set includes the quadratic terms and 2-way interactions of all the features. \n",
    "* The second/third/fourth training sets include all the features, their quadratic terms, and their 2-way interactions except the standing_tackle/composure/marking features. <br>\n",
    "\n",
    "***Hint:*** *For the 2nd/3rd and 4th training sets, create the training sets without the aforementioned features and then apply polynomial expansion to the resultant sets.* \n",
    "\n",
    "**2.** **Questions:**\n",
    "* How many **linear terms** are in each of the new feature set?\n",
    "* How many **squared terms** are in each of the new feature set?\n",
    "* How many **interaction terms** are in each of the new feature set? Give an **example of one of the interaction terms**. "
   ]
  },
  {
   "cell_type": "code",
   "execution_count": null,
   "metadata": {},
   "outputs": [],
   "source": []
  },
  {
   "cell_type": "markdown",
   "metadata": {},
   "source": [
    "## Question 4: Evaluating the backward feature search (15 pts)\n",
    "In this question, you have to **use the pipeline created in question 2 and apply it to each of the training sets created in question 3**. Use 10-fold cross validation to report the validation error** on the training set using mean squared error as the metric. <br>\n",
    "\n",
    "Show all the steps of the process and compare and analyze the results using the validation error reported. "
   ]
  },
  {
   "cell_type": "code",
   "execution_count": null,
   "metadata": {},
   "outputs": [],
   "source": []
  },
  {
   "cell_type": "markdown",
   "metadata": {},
   "source": [
    "## Question 5: Applying Ridge Regression (10 pts)\n",
    "\n",
    "**1.** Build a pipeline that performs **scaling** and **fits the ridge regression** on the data that includes the polynomial expansion of all the features. The penalization parameter is set to 0.5. \n",
    "\n",
    "**2.** Use the pipeline to report the validation error using mean square error metric. Use 10-fold cross validation. "
   ]
  },
  {
   "cell_type": "code",
   "execution_count": null,
   "metadata": {},
   "outputs": [],
   "source": []
  },
  {
   "cell_type": "markdown",
   "metadata": {},
   "source": [
    "## Question 6: Tune the Ridge coefficient for the 2nd-order model   (15pt)\n",
    "**1.** Now use 10-fold CV on the training set to determine a good setting for the regularization coefficient. Perform the search going from $\\lambda = \\exp(-8), \\cdots, \\exp(6)$ in 15 evenly spaced increments on the log scale. Plot the mean squared error as a function of $\\log(\\lambda)$. \n",
    "\n",
    "\n",
    "**2.** **Questions:**\n",
    "* What is the best regularization parameter (actual not approximate)? \n",
    "\n",
    "* Why does the error increase as $\\lambda \\rightarrow 0?$  Why does the error increase when $\\lambda \\rightarrow \\infty$?  Answer in terms of the bias variance trade off."
   ]
  },
  {
   "cell_type": "code",
   "execution_count": null,
   "metadata": {},
   "outputs": [],
   "source": []
  },
  {
   "cell_type": "markdown",
   "metadata": {},
   "source": [
    "### Question 7: Test error  (10pt)\n",
    "Now test how the ridge model, fitted to the whole training set, performs on the test data set. \n",
    "\n",
    "\n",
    "Report the following:\n",
    "\n",
    "* The mean squared error on the test data - along with the 95% confidence interval, determined with the central limit theorem. \n",
    "* The proportion of the variance explained by your model - along wth a 95% confidence interval."
   ]
  },
  {
   "cell_type": "code",
   "execution_count": null,
   "metadata": {},
   "outputs": [],
   "source": []
  },
  {
   "cell_type": "markdown",
   "metadata": {},
   "source": [
    "## Question 8: Analyzing Ridge Coefficients (15 pts)\n",
    "In this question:\n",
    "\n",
    "**1.** you are first required to extract all the coefficients of the standing tackle, composure and marking features from the best model of question 7. \n",
    "\n",
    "**2.** After that, calculate the mean of the coefficients of the aforementioned features and analyze the results. \n",
    "\n",
    "**3.** **Question:** Based on these observations, draw conclusions about the results in question 4. "
   ]
  },
  {
   "cell_type": "code",
   "execution_count": null,
   "metadata": {},
   "outputs": [],
   "source": []
  },
  {
   "cell_type": "markdown",
   "metadata": {},
   "source": [
    "## Question 9: Lasso Regression (10pts)\n",
    "Let us assume that you are building a linear regression model using only three features \"standing tackle\", \"marking\", and \"composure\" to predict a player's overall rating. \n",
    "\n",
    "**Question:** Based on the results of question 8, what do you think will be the features' coefficients while applying the lasso regression optimization? Answer in no more than 5 sentences. "
   ]
  },
  {
   "cell_type": "code",
   "execution_count": null,
   "metadata": {},
   "outputs": [],
   "source": []
  },
  {
   "cell_type": "markdown",
   "metadata": {},
   "source": [
    "## Note: \n",
    "After completing all the tasks and before submitting: \n",
    "* Restart you kernel by clicking 'Restart & Run all'\n",
    "* Fix any errors resulting from the first step.\n",
    "* Repeat the first two steps until no errors are encountered. "
   ]
  }
 ],
 "metadata": {
  "kernelspec": {
   "display_name": "Python 3 (ipykernel)",
   "language": "python",
   "name": "python3"
  },
  "language_info": {
   "codemirror_mode": {
    "name": "ipython",
    "version": 3
   },
   "file_extension": ".py",
   "mimetype": "text/x-python",
   "name": "python",
   "nbconvert_exporter": "python",
   "pygments_lexer": "ipython3",
   "version": "3.11.5"
  }
 },
 "nbformat": 4,
 "nbformat_minor": 2
}
